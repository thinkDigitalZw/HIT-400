{
 "cells": [
  {
   "cell_type": "code",
   "execution_count": 32,
   "id": "8665c9b0",
   "metadata": {},
   "outputs": [],
   "source": [
    "import numpy as np\n",
    "import pandas as pd\n",
    "import matplotlib.pyplot as plt\n",
    "import matplotlib.patches as mpatches\n",
    "import matplotlib.pyplot\n",
    "import matplotlib"
   ]
  },
  {
   "cell_type": "code",
   "execution_count": 33,
   "id": "860dfdc7",
   "metadata": {},
   "outputs": [],
   "source": [
    "#Read the data set and storein a variable\n",
    "df = pd.read_csv(r\"C:\\Users\\Accenture\\Documents\\Projects\\HIT\\HIT-400\\datasets\\dataset-1.csv\")"
   ]
  },
  {
   "cell_type": "code",
   "execution_count": 34,
   "id": "b9ba55b6",
   "metadata": {},
   "outputs": [],
   "source": [
    "#convert convertable objects\n",
    "df = df.infer_objects()"
   ]
  },
  {
   "cell_type": "code",
   "execution_count": 35,
   "id": "ec07180e",
   "metadata": {},
   "outputs": [
    {
     "data": {
      "text/plain": [
       "<bound method NDFrame.describe of      age sex cp trestbps chol fbs restecg thalach exang  oldpeak slope ca  \\\n",
       "0     52   1  0      125  212   0       1     168     0      1.0     2  2   \n",
       "1     53   1  0      140  203   1       0     155     1      3.1     0  0   \n",
       "2     70   1  0      145  174   0       1     125     1      2.6     0  0   \n",
       "3     61   1  0      148  203   0       1     161     0      0.0     2  1   \n",
       "4     62   0  0      138  294   1       1     106     0      1.9     1  3   \n",
       "...   ..  .. ..      ...  ...  ..     ...     ...   ...      ...   ... ..   \n",
       "1020  59   1  1      140  221   0       1     164     1      0.0     2  0   \n",
       "1021  60   1  0      125  258   0       0     141     1      2.8     1  1   \n",
       "1022  47   1  0      110  275   0       0     118     1      1.0     1  1   \n",
       "1023  50   0  0      110  254   0       0     159     0      0.0     2  0   \n",
       "1024  54   1  0      120  188   0       1     113     0      1.4     1  1   \n",
       "\n",
       "     thal target  \n",
       "0       3      0  \n",
       "1       3      0  \n",
       "2       3      0  \n",
       "3       3      0  \n",
       "4       2      0  \n",
       "...   ...    ...  \n",
       "1020    2      1  \n",
       "1021    3      0  \n",
       "1022    2      0  \n",
       "1023    2      1  \n",
       "1024    3      0  \n",
       "\n",
       "[1025 rows x 14 columns]>"
      ]
     },
     "execution_count": 35,
     "metadata": {},
     "output_type": "execute_result"
    }
   ],
   "source": [
    "# Show how data is spread out \n",
    "df.describe"
   ]
  },
  {
   "cell_type": "code",
   "execution_count": 36,
   "id": "6b51839f",
   "metadata": {},
   "outputs": [
    {
     "data": {
      "text/plain": [
       "Index(['age', 'sex', 'cp', 'trestbps', 'chol', 'fbs', 'restecg', 'thalach',\n",
       "       'exang', 'oldpeak', 'slope', 'ca', 'thal', 'target'],\n",
       "      dtype='object')"
      ]
     },
     "execution_count": 36,
     "metadata": {},
     "output_type": "execute_result"
    }
   ],
   "source": [
    "#show columns of the dataset\n",
    "df.columns"
   ]
  },
  {
   "cell_type": "code",
   "execution_count": 38,
   "id": "f0669b02",
   "metadata": {},
   "outputs": [
    {
     "data": {
      "text/html": [
       "<div>\n",
       "<style scoped>\n",
       "    .dataframe tbody tr th:only-of-type {\n",
       "        vertical-align: middle;\n",
       "    }\n",
       "\n",
       "    .dataframe tbody tr th {\n",
       "        vertical-align: top;\n",
       "    }\n",
       "\n",
       "    .dataframe thead th {\n",
       "        text-align: right;\n",
       "    }\n",
       "</style>\n",
       "<table border=\"1\" class=\"dataframe\">\n",
       "  <thead>\n",
       "    <tr style=\"text-align: right;\">\n",
       "      <th></th>\n",
       "      <th>age</th>\n",
       "      <th>sex</th>\n",
       "      <th>cp</th>\n",
       "      <th>trestbps</th>\n",
       "      <th>chol</th>\n",
       "      <th>fbs</th>\n",
       "      <th>restecg</th>\n",
       "      <th>thalach</th>\n",
       "      <th>exang</th>\n",
       "      <th>oldpeak</th>\n",
       "      <th>slope</th>\n",
       "      <th>ca</th>\n",
       "      <th>thal</th>\n",
       "      <th>target</th>\n",
       "    </tr>\n",
       "  </thead>\n",
       "  <tbody>\n",
       "    <tr>\n",
       "      <th>0</th>\n",
       "      <td>52</td>\n",
       "      <td>1</td>\n",
       "      <td>0</td>\n",
       "      <td>125</td>\n",
       "      <td>212</td>\n",
       "      <td>0</td>\n",
       "      <td>1</td>\n",
       "      <td>168</td>\n",
       "      <td>0</td>\n",
       "      <td>1.0</td>\n",
       "      <td>2</td>\n",
       "      <td>2</td>\n",
       "      <td>3</td>\n",
       "      <td>0</td>\n",
       "    </tr>\n",
       "    <tr>\n",
       "      <th>1</th>\n",
       "      <td>53</td>\n",
       "      <td>1</td>\n",
       "      <td>0</td>\n",
       "      <td>140</td>\n",
       "      <td>203</td>\n",
       "      <td>1</td>\n",
       "      <td>0</td>\n",
       "      <td>155</td>\n",
       "      <td>1</td>\n",
       "      <td>3.1</td>\n",
       "      <td>0</td>\n",
       "      <td>0</td>\n",
       "      <td>3</td>\n",
       "      <td>0</td>\n",
       "    </tr>\n",
       "    <tr>\n",
       "      <th>2</th>\n",
       "      <td>70</td>\n",
       "      <td>1</td>\n",
       "      <td>0</td>\n",
       "      <td>145</td>\n",
       "      <td>174</td>\n",
       "      <td>0</td>\n",
       "      <td>1</td>\n",
       "      <td>125</td>\n",
       "      <td>1</td>\n",
       "      <td>2.6</td>\n",
       "      <td>0</td>\n",
       "      <td>0</td>\n",
       "      <td>3</td>\n",
       "      <td>0</td>\n",
       "    </tr>\n",
       "    <tr>\n",
       "      <th>3</th>\n",
       "      <td>61</td>\n",
       "      <td>1</td>\n",
       "      <td>0</td>\n",
       "      <td>148</td>\n",
       "      <td>203</td>\n",
       "      <td>0</td>\n",
       "      <td>1</td>\n",
       "      <td>161</td>\n",
       "      <td>0</td>\n",
       "      <td>0.0</td>\n",
       "      <td>2</td>\n",
       "      <td>1</td>\n",
       "      <td>3</td>\n",
       "      <td>0</td>\n",
       "    </tr>\n",
       "    <tr>\n",
       "      <th>4</th>\n",
       "      <td>62</td>\n",
       "      <td>0</td>\n",
       "      <td>0</td>\n",
       "      <td>138</td>\n",
       "      <td>294</td>\n",
       "      <td>1</td>\n",
       "      <td>1</td>\n",
       "      <td>106</td>\n",
       "      <td>0</td>\n",
       "      <td>1.9</td>\n",
       "      <td>1</td>\n",
       "      <td>3</td>\n",
       "      <td>2</td>\n",
       "      <td>0</td>\n",
       "    </tr>\n",
       "    <tr>\n",
       "      <th>...</th>\n",
       "      <td>...</td>\n",
       "      <td>...</td>\n",
       "      <td>...</td>\n",
       "      <td>...</td>\n",
       "      <td>...</td>\n",
       "      <td>...</td>\n",
       "      <td>...</td>\n",
       "      <td>...</td>\n",
       "      <td>...</td>\n",
       "      <td>...</td>\n",
       "      <td>...</td>\n",
       "      <td>...</td>\n",
       "      <td>...</td>\n",
       "      <td>...</td>\n",
       "    </tr>\n",
       "    <tr>\n",
       "      <th>95</th>\n",
       "      <td>45</td>\n",
       "      <td>0</td>\n",
       "      <td>0</td>\n",
       "      <td>138</td>\n",
       "      <td>236</td>\n",
       "      <td>0</td>\n",
       "      <td>0</td>\n",
       "      <td>152</td>\n",
       "      <td>1</td>\n",
       "      <td>0.2</td>\n",
       "      <td>1</td>\n",
       "      <td>0</td>\n",
       "      <td>2</td>\n",
       "      <td>1</td>\n",
       "    </tr>\n",
       "    <tr>\n",
       "      <th>96</th>\n",
       "      <td>57</td>\n",
       "      <td>0</td>\n",
       "      <td>0</td>\n",
       "      <td>128</td>\n",
       "      <td>303</td>\n",
       "      <td>0</td>\n",
       "      <td>0</td>\n",
       "      <td>159</td>\n",
       "      <td>0</td>\n",
       "      <td>0.0</td>\n",
       "      <td>2</td>\n",
       "      <td>1</td>\n",
       "      <td>2</td>\n",
       "      <td>1</td>\n",
       "    </tr>\n",
       "    <tr>\n",
       "      <th>97</th>\n",
       "      <td>53</td>\n",
       "      <td>1</td>\n",
       "      <td>0</td>\n",
       "      <td>123</td>\n",
       "      <td>282</td>\n",
       "      <td>0</td>\n",
       "      <td>1</td>\n",
       "      <td>95</td>\n",
       "      <td>1</td>\n",
       "      <td>2.0</td>\n",
       "      <td>1</td>\n",
       "      <td>2</td>\n",
       "      <td>3</td>\n",
       "      <td>๒</td>\n",
       "    </tr>\n",
       "    <tr>\n",
       "      <th>98</th>\n",
       "      <td>65</td>\n",
       "      <td>1</td>\n",
       "      <td>0</td>\n",
       "      <td>110</td>\n",
       "      <td>248</td>\n",
       "      <td>0</td>\n",
       "      <td>0</td>\n",
       "      <td>158</td>\n",
       "      <td>0</td>\n",
       "      <td>0.6</td>\n",
       "      <td>2</td>\n",
       "      <td>2</td>\n",
       "      <td>1</td>\n",
       "      <td>0</td>\n",
       "    </tr>\n",
       "    <tr>\n",
       "      <th>99</th>\n",
       "      <td>76</td>\n",
       "      <td>0</td>\n",
       "      <td>2</td>\n",
       "      <td>140</td>\n",
       "      <td>197</td>\n",
       "      <td>0</td>\n",
       "      <td>2</td>\n",
       "      <td>116</td>\n",
       "      <td>0</td>\n",
       "      <td>1.1</td>\n",
       "      <td>1</td>\n",
       "      <td>0</td>\n",
       "      <td>2</td>\n",
       "      <td>1</td>\n",
       "    </tr>\n",
       "  </tbody>\n",
       "</table>\n",
       "<p>100 rows × 14 columns</p>\n",
       "</div>"
      ],
      "text/plain": [
       "   age sex cp trestbps chol fbs restecg thalach exang  oldpeak slope ca thal  \\\n",
       "0   52   1  0      125  212   0       1     168     0      1.0     2  2    3   \n",
       "1   53   1  0      140  203   1       0     155     1      3.1     0  0    3   \n",
       "2   70   1  0      145  174   0       1     125     1      2.6     0  0    3   \n",
       "3   61   1  0      148  203   0       1     161     0      0.0     2  1    3   \n",
       "4   62   0  0      138  294   1       1     106     0      1.9     1  3    2   \n",
       "..  ..  .. ..      ...  ...  ..     ...     ...   ...      ...   ... ..  ...   \n",
       "95  45   0  0      138  236   0       0     152     1      0.2     1  0    2   \n",
       "96  57   0  0      128  303   0       0     159     0      0.0     2  1    2   \n",
       "97  53   1  0      123  282   0       1      95     1      2.0     1  2    3   \n",
       "98  65   1  0      110  248   0       0     158     0      0.6     2  2    1   \n",
       "99  76   0  2      140  197   0       2     116     0      1.1     1  0    2   \n",
       "\n",
       "   target  \n",
       "0       0  \n",
       "1       0  \n",
       "2       0  \n",
       "3       0  \n",
       "4       0  \n",
       "..    ...  \n",
       "95      1  \n",
       "96      1  \n",
       "97      ๒  \n",
       "98      0  \n",
       "99      1  \n",
       "\n",
       "[100 rows x 14 columns]"
      ]
     },
     "execution_count": 38,
     "metadata": {},
     "output_type": "execute_result"
    }
   ],
   "source": [
    "#First 10 rows of the dataset\n",
    "df.head(100)"
   ]
  },
  {
   "cell_type": "code",
   "execution_count": 21,
   "id": "e9c25fd0",
   "metadata": {},
   "outputs": [],
   "source": [
    "#select and map features of data set\n",
    "# X ->  denotes training\n",
    "# y -> denotes output\n",
    "X = df.iloc[:, :-1].values\n",
    "y= df.iloc[:, 13].values"
   ]
  },
  {
   "cell_type": "code",
   "execution_count": 22,
   "id": "5a1f3dd0",
   "metadata": {},
   "outputs": [],
   "source": [
    "# Fit the X and Y \n",
    "from sklearn.preprocessing import StandardScaler\n",
    "sc_X = StandardScaler()\n",
    "X=sc_X.fit_transform(X)"
   ]
  },
  {
   "cell_type": "code",
   "execution_count": 23,
   "id": "f65b93ec",
   "metadata": {},
   "outputs": [],
   "source": [
    "# Preprocessing\n",
    "from sklearn.model_selection import train_test_split\n",
    "X_train,X_test, y_train, y_test = train_test_split(X,y, test_size=0.2)"
   ]
  },
  {
   "cell_type": "code",
   "execution_count": 30,
   "id": "1f384193",
   "metadata": {},
   "outputs": [
    {
     "name": "stdout",
     "output_type": "stream",
     "text": [
      "96.09756097560975\n"
     ]
    }
   ],
   "source": [
    "#Actual training and score accuracy test\n",
    "from sklearn.ensemble import RandomForestClassifier\n",
    "model = RandomForestClassifier(n_estimators=1, random_state=0)\n",
    "model.fit(X_train, y_train)\n",
    "score = model.score(X_test, y_test)\n",
    "print(score*100)"
   ]
  },
  {
   "cell_type": "code",
   "execution_count": 31,
   "id": "bd349683",
   "metadata": {},
   "outputs": [
    {
     "name": "stdout",
     "output_type": "stream",
     "text": [
      "['0' '0' '0' '0' '0' '0' '0' '0' '1' '1' '0' '1' '0' '1' '0' '0' '0' '1'\n",
      " '1' '1' '1' '1' '0' '0' '1' '1' '0' '1' '1' '1' '1' '0' '0' '1' '0' '1'\n",
      " '0' '0' '1' '0' '1' '1' '0' '0' '0' '1' '0' '0' '1' '1' '1' '1' '0' '0'\n",
      " '1' '1' '1' '1' '1' '1' '1' '0' '0' '0' '1' '1' '1' '0' '1' '0' '1' '1'\n",
      " '0' '1' '0' '1' '1' '1' '1' '1' '0' '1' '0' '1' '0' '0' '0' '0' '0' '1'\n",
      " '0' '1' '0' '1' '0' '0' '1' '0' '0' '0' '0' '1' '1' '0' '0' '1' '1' '1'\n",
      " '๖๔' '0' '0' '0' '0' '1' '0' '1' '1' '0' '1' '0' '1' '1' '1' '1' '0' '1'\n",
      " '0' '0' '1' '0' '0' '1' '1' '0' '1' '1' '0' '1' '0' '1' '0' '1' '1' '1'\n",
      " '0' '0' '1' '0' '0' '0' '1' '0' '0' '1' '1' '0' '1' '1' '1' '0' '0' '0'\n",
      " '1' '1' '0' '0' '1' '1' '0' '1' '0' '1' '1' '0' '0' '1' '0' '0' '0' '1'\n",
      " '0' '1' '1' '1' '0' '1' '0' '0' '1' '0' '1' '1' '0' '0' '0' '1' '0' '1'\n",
      " '1' '1' '0' '1' '1' '0' '0']\n"
     ]
    }
   ],
   "source": [
    "# confusion matrix\n",
    "y_predict = model.predict(X_test)\n",
    "print(y_predict)"
   ]
  },
  {
   "cell_type": "code",
   "execution_count": null,
   "id": "f484a548",
   "metadata": {},
   "outputs": [],
   "source": []
  },
  {
   "cell_type": "code",
   "execution_count": null,
   "id": "66096cb2",
   "metadata": {},
   "outputs": [],
   "source": []
  },
  {
   "cell_type": "code",
   "execution_count": null,
   "id": "5e9a010c",
   "metadata": {},
   "outputs": [],
   "source": []
  },
  {
   "cell_type": "code",
   "execution_count": 14,
   "id": "7c809a35",
   "metadata": {},
   "outputs": [
    {
     "name": "stdout",
     "output_type": "stream",
     "text": [
      "['0']\n"
     ]
    }
   ],
   "source": [
    "# Run a test\n",
    "test_prediction = model.predict([['58','0', '0', '100', '248', '0', '0', '122', '0', '1.0', '1', '0', '2']])\n",
    "print(test_prediction)"
   ]
  },
  {
   "cell_type": "code",
   "execution_count": 64,
   "id": "ef1bd5a8",
   "metadata": {},
   "outputs": [],
   "source": [
    "from joblib import dump"
   ]
  },
  {
   "cell_type": "code",
   "execution_count": 65,
   "id": "97744b07",
   "metadata": {},
   "outputs": [
    {
     "data": {
      "text/plain": [
       "['randomForest.joblib']"
      ]
     },
     "execution_count": 65,
     "metadata": {},
     "output_type": "execute_result"
    }
   ],
   "source": [
    "# save the trained model\n",
    "dump(model, \"randomForest.joblib\")"
   ]
  },
  {
   "cell_type": "code",
   "execution_count": null,
   "id": "6d657ef7",
   "metadata": {},
   "outputs": [],
   "source": []
  }
 ],
 "metadata": {
  "kernelspec": {
   "display_name": "Python 3",
   "language": "python",
   "name": "python3"
  },
  "language_info": {
   "codemirror_mode": {
    "name": "ipython",
    "version": 3
   },
   "file_extension": ".py",
   "mimetype": "text/x-python",
   "name": "python",
   "nbconvert_exporter": "python",
   "pygments_lexer": "ipython3",
   "version": "3.8.8"
  }
 },
 "nbformat": 4,
 "nbformat_minor": 5
}
